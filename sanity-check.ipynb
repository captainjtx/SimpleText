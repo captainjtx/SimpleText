{
 "cells": [
  {
   "cell_type": "code",
   "execution_count": 8,
   "metadata": {},
   "outputs": [
    {
     "name": "stdout",
     "output_type": "stream",
     "text": [
      "mismatch: 0\n"
     ]
    }
   ],
   "source": [
    "import os.path\n",
    "import tensorflow as tf\n",
    "import keras\n",
    "import nltk\n",
    "import pandas as pd\n",
    "import numpy as np\n",
    "import re\n",
    "import codecs\n",
    "import sys\n",
    "sys.path.insert(0, '/Users/tengi/insight-project/lib/pwkp_dataset_parser')\n",
    "from pwkp_parser import parse_pwkp_file\n",
    "import collections\n",
    "\n",
    "out = open('count.txt', 'w')\n",
    "\n",
    "mismatch = 0\n",
    "for n in range(250):\n",
    "    fname_young = 'data/young_%d.txt'%(n)\n",
    "    fname_old = 'data/old_%d.txt'%(n)\n",
    "    if not os.path.isfile(fname_young) or not os.path.isfile(fname_old):\n",
    "        continue\n",
    "        \n",
    "    f_young = open(fname_young, 'r')\n",
    "    f_old = open(fname_old, 'r')\n",
    "    \n",
    "    linecount1 = 0\n",
    "    paragraphcount1 = 0\n",
    "    empty = True\n",
    "    for line in f_young:\n",
    "        if '\\n' in line:\n",
    "            linecount1 += 1\n",
    "            if len(line) < 2:\n",
    "                empty = True\n",
    "            elif len(line) > 2 and empty is True:\n",
    "                paragraphcount1 = paragraphcount1 + 1\n",
    "                empty = False\n",
    "    out.write('%-4d %4d \\n' % (paragraphcount1, linecount1)) \n",
    "    \n",
    "    paragraphcount2 = 0\n",
    "    linecount2 = 0\n",
    "    for line in f_old:\n",
    "        if '\\n' in line:\n",
    "            linecount2 += 1\n",
    "            if len(line) < 2:\n",
    "                empty = True\n",
    "            elif len(line) > 2 and empty is True:\n",
    "                paragraphcount2 = paragraphcount2 + 1\n",
    "                empty = False\n",
    "         \n",
    "    out.write('%-4d %4d \\n\\n' % (paragraphcount2, linecount2))    \n",
    "    \n",
    "    if paragraphcount1 != paragraphcount2:\n",
    "        mismatch += 1\n",
    "        \n",
    "    f_young.close()\n",
    "    f_old.close()\n",
    "\n",
    "print('mismatch: %d'%mismatch)\n",
    "out.close()"
   ]
  },
  {
   "cell_type": "code",
   "execution_count": 22,
   "metadata": {},
   "outputs": [
    {
     "name": "stdout",
     "output_type": "stream",
     "text": [
      "1.0\n"
     ]
    }
   ],
   "source": [
    "# two references for one document\n",
    "from nltk.translate.bleu_score import corpus_bleu\n",
    "references = [[['this', 'is', 'a', 'test'], ['this', 'is' 'test']]]\n",
    "candidates = [['this', 'is', 'a', 'test']]\n",
    "score = corpus_bleu(references, candidates)\n",
    "print(score)"
   ]
  },
  {
   "cell_type": "code",
   "execution_count": null,
   "metadata": {
    "collapsed": true
   },
   "outputs": [],
   "source": [
    "# train valid test splitting\n"
   ]
  }
 ],
 "metadata": {
  "kernelspec": {
   "display_name": "Python 2",
   "language": "python",
   "name": "python2"
  },
  "language_info": {
   "codemirror_mode": {
    "name": "ipython",
    "version": 2
   },
   "file_extension": ".py",
   "mimetype": "text/x-python",
   "name": "python",
   "nbconvert_exporter": "python",
   "pygments_lexer": "ipython2",
   "version": "2.7.14"
  }
 },
 "nbformat": 4,
 "nbformat_minor": 2
}
