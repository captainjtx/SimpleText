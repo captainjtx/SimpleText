{
 "cells": [
  {
   "cell_type": "code",
   "execution_count": 3,
   "metadata": {},
   "outputs": [],
   "source": [
    "import gensim\n",
    "embed_file_name = \"model/WikNet/word2vec.tok.bpe.model\""
   ]
  },
  {
   "cell_type": "code",
   "execution_count": 14,
   "metadata": {},
   "outputs": [],
   "source": [
    "!mkdir -p model/WikNet\n",
    "sentences = gensim.models.word2vec.LineSentence('data/WikNet/good_partial.tok.bpe')\n",
    "model = gensim.models.word2vec.Word2Vec(sentences, size=100, window=5, min_count=5, workers=4)\n",
    "\n",
    "model.save(embed_file_name)"
   ]
  },
  {
   "cell_type": "code",
   "execution_count": 3,
   "metadata": {},
   "outputs": [],
   "source": [
    "model = gensim.models.word2vec.Word2Vec.load(embed_file_name)  # you can continue training with the loaded model!"
   ]
  },
  {
   "cell_type": "code",
   "execution_count": 19,
   "metadata": {},
   "outputs": [],
   "source": [
    "model.wv.save_word2vec_format(\"model/WikNet/word2vec.tok.bpe.glove\")\n",
    "# delete the first line for training\n",
    "!tail -n +2 \"model/WikNet/word2vec.tok.bpe.glove\""
   ]
  },
  {
   "cell_type": "code",
   "execution_count": 10,
   "metadata": {},
   "outputs": [
    {
     "data": {
      "text/plain": [
       "[('ked', 0.6430013179779053),\n",
       " ('ks', 0.44155460596084595),\n",
       " ('illegal', 0.41312605142593384),\n",
       " ('them', 0.41126513481140137),\n",
       " ('safe', 0.4048005938529968),\n",
       " ('young', 0.40001094341278076),\n",
       " ('getting', 0.39753779768943787),\n",
       " ('drink', 0.3834664821624756),\n",
       " ('thinking', 0.3830519914627075),\n",
       " ('sleep', 0.38216841220855713)]"
      ]
     },
     "execution_count": 10,
     "metadata": {},
     "output_type": "execute_result"
    }
   ],
   "source": [
    "model.wv.most_similar(positive=['woman', 'king'], negative=['man'])"
   ]
  },
  {
   "cell_type": "code",
   "execution_count": 21,
   "metadata": {},
   "outputs": [
    {
     "data": {
      "text/plain": [
       "0.1376573261098026"
      ]
     },
     "execution_count": 21,
     "metadata": {},
     "output_type": "execute_result"
    }
   ],
   "source": [
    "model.wv.similarity('woman', 'man')"
   ]
  },
  {
   "cell_type": "code",
   "execution_count": 16,
   "metadata": {},
   "outputs": [
    {
     "data": {
      "text/plain": [
       "[('ked', 1.018746256828308),\n",
       " ('illegal', 0.8924691677093506),\n",
       " ('safe', 0.8914288282394409),\n",
       " ('getting', 0.8496485948562622),\n",
       " ('difficult', 0.8483673930168152),\n",
       " ('easy', 0.847456157207489),\n",
       " ('changing', 0.8442102074623108),\n",
       " ('them', 0.8429749608039856),\n",
       " ('suitable', 0.8428696393966675),\n",
       " ('legal', 0.841522753238678)]"
      ]
     },
     "execution_count": 16,
     "metadata": {},
     "output_type": "execute_result"
    }
   ],
   "source": [
    "model.wv.most_similar_cosmul(positive=['woman', 'king'], negative=['man'])"
   ]
  },
  {
   "cell_type": "code",
   "execution_count": 1,
   "metadata": {},
   "outputs": [
    {
     "name": "stdout",
     "output_type": "stream",
     "text": [
      "2018-01-25 11:57:37 URL:https://nlp.stanford.edu/data/glove.6B.zip [862182613/862182613] -> \"model/glove.6B.zip\" [1]\r\n"
     ]
    }
   ],
   "source": [
    "!wget -nv http://nlp.stanford.edu/data/glove.6B.zip -P model/GloVe\n",
    "!unzip model/GloVe/glove.6B.zip -d model/GloVe"
   ]
  },
  {
   "cell_type": "code",
   "execution_count": null,
   "metadata": {},
   "outputs": [],
   "source": []
  }
 ],
 "metadata": {
  "kernelspec": {
   "display_name": "Python 3",
   "language": "python",
   "name": "python3"
  },
  "language_info": {
   "codemirror_mode": {
    "name": "ipython",
    "version": 3
   },
   "file_extension": ".py",
   "mimetype": "text/x-python",
   "name": "python",
   "nbconvert_exporter": "python",
   "pygments_lexer": "ipython3",
   "version": "3.6.4"
  }
 },
 "nbformat": 4,
 "nbformat_minor": 2
}
