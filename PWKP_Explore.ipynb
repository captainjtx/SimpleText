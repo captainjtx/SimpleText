{
 "cells": [
  {
   "cell_type": "code",
   "execution_count": 1,
   "metadata": {},
   "outputs": [
    {
     "name": "stderr",
     "output_type": "stream",
     "text": [
      "/home/paperspace/anaconda3/envs/py3/lib/python3.6/importlib/_bootstrap.py:219: RuntimeWarning: compiletime version 3.5 of module 'tensorflow.python.framework.fast_tensor_util' does not match runtime version 3.6\n",
      "  return f(*args, **kwds)\n",
      "Using TensorFlow backend.\n"
     ]
    }
   ],
   "source": [
    "import os.path\n",
    "import tensorflow as tf\n",
    "import keras\n",
    "import nltk\n",
    "from nltk import word_tokenize\n",
    "from nltk.tokenize.moses import MosesTokenizer\n",
    "from nltk.tokenize.moses import MosesDetokenizer\n",
    "import pandas as pd\n",
    "import numpy as np\n",
    "import re\n",
    "import codecs\n",
    "import sys\n",
    "import operator\n",
    "import matplotlib.pyplot as plt\n",
    "\n",
    "# sys.path.insert(0, '/Users/tengi/insight-project/lib/pwkp_dataset_parser')\n",
    "# from pwkp_parser import parse_pwkp_file\n",
    "# download the princeton wordnet, once run it once\n",
    "# nltk.download('wordnet') \n",
    "from nltk.stem.wordnet import WordNetLemmatizer\n",
    "%matplotlib inline\n",
    "#nltk.download('all')"
   ]
  },
  {
   "cell_type": "code",
   "execution_count": 2,
   "metadata": {
    "collapsed": true
   },
   "outputs": [],
   "source": [
    "pwkp_source_file = 'data/PWKP/PWKP_108016'\n",
    "\n",
    "translations = []\n",
    "\n",
    "# generate complex-simple paris in translations\n",
    "\n",
    "def retrieve_complex_simplex_translations(src_file):\n",
    "    total_simple_sentences = 0;\n",
    "    with open(pwkp_source_file) as pwkp_file:\n",
    "            translation_beginning = True\n",
    "            translation = None\n",
    "            for line in pwkp_file:\n",
    "                \n",
    "                \n",
    "                if translation_beginning:\n",
    "                    translation = (line.strip(), \"\")\n",
    "                    translation_beginning = False\n",
    "                else:\n",
    "                    if line == \"\\n\":\n",
    "                        translation_beginning = True\n",
    "                        translations.append(translation)\n",
    "                    else:\n",
    "                        total_simple_sentences += 1;\n",
    "                        source, target = translation\n",
    "                        translation =\\\n",
    "                            (source, target + line.strip() + \" \")\n",
    "    return (translations, total_simple_sentences);"
   ]
  },
  {
   "cell_type": "code",
   "execution_count": 3,
   "metadata": {
    "collapsed": true
   },
   "outputs": [],
   "source": [
    "# get complex-simple pairs\n",
    "translations, total_simple_sentences = retrieve_complex_simplex_translations(pwkp_source_file)"
   ]
  },
  {
   "cell_type": "code",
   "execution_count": 4,
   "metadata": {
    "collapsed": true
   },
   "outputs": [],
   "source": [
    "#tokenize the original data file (PWKP_108016) by Moses\n",
    "tokenizer = MosesTokenizer()\n",
    "np.random.shuffle(translations)\n",
    "\n",
    "complex_sentences = [pair[0] for pair in translations]\n",
    "simple_sentences = [pair[1] for pair in translations]\n",
    "\n",
    "complex_sentences_tok = [tokenizer.tokenize(sent, return_str = True) for sent in complex_sentences]\n",
    "simple_sentences_tok = [tokenizer.tokenize(sent, return_str = True) for sent in simple_sentences] \n"
   ]
  },
  {
   "cell_type": "code",
   "execution_count": 11,
   "metadata": {
    "collapsed": true
   },
   "outputs": [],
   "source": [
    "complex_tok_words = [word for sent in complex_sentences for word in tokenizer.tokenize(sent)]\n",
    "simple_tok_words = [word for sent in simple_sentences for word in tokenizer.tokenize(sent)]"
   ]
  },
  {
   "cell_type": "code",
   "execution_count": 18,
   "metadata": {
    "collapsed": true
   },
   "outputs": [],
   "source": [
    "fdist = nltk.FreqDist(complex_tok_words+simple_tok_words)"
   ]
  },
  {
   "cell_type": "code",
   "execution_count": 19,
   "metadata": {},
   "outputs": [
    {
     "name": "stdout",
     "output_type": "stream",
     "text": [
      "121793\n",
      "4825466\n"
     ]
    }
   ],
   "source": [
    "print(fdist.B())\n",
    "print(fdist.N())"
   ]
  },
  {
   "cell_type": "code",
   "execution_count": 6,
   "metadata": {
    "collapsed": true
   },
   "outputs": [],
   "source": [
    "corpus_file = 'data/PWKP/PWKP_108016.tok'\n",
    "\n",
    "complex_sentences_file = 'data/PWKP/complex.tok'\n",
    "simple_sentences_file = 'data/PWKP/simple.tok'\n",
    "\n",
    "complex_train_file = 'data/PWKP/train.tok.complex'\n",
    "simple_train_file = 'data/PWKP/train.tok.simple'\n",
    "\n",
    "complex_val_file = 'data/PWKP/val.tok.complex'\n",
    "simple_val_file = 'data/PWKP/val.tok.simple'\n",
    "\n",
    "complex_test_file = 'data/PWKP/test.tok.complex'\n",
    "simple_test_file = 'data/PWKP/test.tok.simple'\n",
    "\n",
    "val_size = 300\n",
    "test_size = 300\n",
    "\n",
    "with open(corpus_file, 'w') as f:\n",
    "    for i in range(len(complex_sentences_tok)):\n",
    "        f.write(complex_sentences_tok[i] + '\\n')\n",
    "        f.write(simple_sentences_tok[i] + '\\n\\n')\n",
    "        \n",
    "        \n",
    "with open(complex_sentences_file, 'w') as f:\n",
    "    for sent in complex_sentences_tok:\n",
    "        f.write(sent + '\\n')\n",
    "        \n",
    "with open(simple_sentences_file, 'w') as f:\n",
    "    for sent in simple_sentences_tok:\n",
    "        f.write(sent + '\\n')\n",
    " \n",
    "with open(complex_train_file, 'w') as f:\n",
    "    for sent in complex_sentences_tok[:-(val_size+test_size)]:\n",
    "        f.write(sent + '\\n')\n",
    "        \n",
    "with open(simple_train_file, 'w') as f:\n",
    "    for sent in simple_sentences_tok[:-(val_size+test_size)]:\n",
    "        f.write(sent + '\\n')\n",
    "        \n",
    "with open(complex_val_file, 'w') as f:\n",
    "    for sent in complex_sentences_tok[-(val_size+test_size):-test_size]:\n",
    "        f.write(sent + '\\n')\n",
    "        \n",
    "with open(simple_val_file, 'w') as f:\n",
    "    for sent in simple_sentences_tok[-(val_size+test_size):-test_size]:\n",
    "        f.write(sent + '\\n')\n",
    "        \n",
    "with open(complex_test_file, 'w') as f:\n",
    "    for sent in complex_sentences_tok[-test_size:]:\n",
    "        f.write(sent + '\\n')\n",
    "        \n",
    "with open(simple_test_file, 'w') as f:\n",
    "    for sent in simple_sentences_tok[-test_size:]:\n",
    "        f.write(sent + '\\n')\n",
    "        \n",
    "    "
   ]
  },
  {
   "cell_type": "code",
   "execution_count": 10,
   "metadata": {
    "collapsed": true
   },
   "outputs": [],
   "source": [
    "# Learn a vocabulary using 10,000 merge operations\n",
    "!./subword-nmt/learn_bpe.py -s 10000 < data/PWKP/PWKP_108016.tok > data/PWKP/codes.bpe\n",
    "\n",
    "# Apply the vocabulary to the training file\n",
    "!./subword-nmt/apply_bpe.py -c data/PWKP/codes.bpe < data/PWKP/PWKP_108016.tok > data/PWKP/PWKP_108016.tok.bpe\n",
    "!./subword-nmt/apply_bpe.py -c data/PWKP/codes.bpe < data/PWKP/complex.tok > data/PWKP/complex.tok.bpe\n",
    "!./subword-nmt/apply_bpe.py -c data/PWKP/codes.bpe < data/PWKP/simple.tok > data/PWKP/simple.tok.bpe\n",
    "\n",
    "!./subword-nmt/apply_bpe.py -c data/PWKP/codes.bpe < data/PWKP/train.tok.complex > data/PWKP/train.tok.bpe.complex\n",
    "\n",
    "!./subword-nmt/apply_bpe.py -c data/PWKP/codes.bpe < data/PWKP/train.tok.simple > data/PWKP/train.tok.bpe.simple\n",
    "\n",
    "!./subword-nmt/apply_bpe.py -c data/PWKP/codes.bpe < data/PWKP/val.tok.complex > data/PWKP/val.tok.bpe.complex\n",
    "\n",
    "!./subword-nmt/apply_bpe.py -c data/PWKP/codes.bpe < data/PWKP/val.tok.simple > data/PWKP/val.tok.bpe.simple\n",
    "\n",
    "!./subword-nmt/apply_bpe.py -c data/PWKP/codes.bpe < data/PWKP/test.tok.complex > data/PWKP/test.tok.bpe.complex\n",
    "\n",
    "!./subword-nmt/apply_bpe.py -c data/PWKP/codes.bpe < data/PWKP/test.tok.simple > data/PWKP/test.tok.bpe.simple"
   ]
  },
  {
   "cell_type": "code",
   "execution_count": 22,
   "metadata": {
    "collapsed": true
   },
   "outputs": [],
   "source": [
    "!cat data/PWKP/PWKP_108016.tok.bpe | ./subword-nmt/get_vocab.py > data/PWKP/PWKP_108016.vocab.tok.bpe\n",
    "!cat data/PWKP/complex.tok.bpe | ./subword-nmt/get_vocab.py > data/PWKP/vocab.tok.bpe.complex\n",
    "!cat data/PWKP/simple.tok.bpe | ./subword-nmt/get_vocab.py > data/PWKP/vocab.tok.bpe.simple"
   ]
  },
  {
   "cell_type": "code",
   "execution_count": 2,
   "metadata": {},
   "outputs": [
    {
     "data": {
      "text/plain": [
       "'a b, c d.'"
      ]
     },
     "execution_count": 2,
     "metadata": {},
     "output_type": "execute_result"
    }
   ],
   "source": [
    "detokenizer = MosesDetokenizer()\n",
    "detokenizer.detokenize(\"a b , cd .\", return_str = True)"
   ]
  },
  {
   "cell_type": "code",
   "execution_count": 8,
   "metadata": {},
   "outputs": [
    {
     "name": "stdout",
     "output_type": "stream",
     "text": [
      "Identical Pairs: 0\n"
     ]
    },
    {
     "data": {
      "text/html": [
       "<div>\n",
       "<style scoped>\n",
       "    .dataframe tbody tr th:only-of-type {\n",
       "        vertical-align: middle;\n",
       "    }\n",
       "\n",
       "    .dataframe tbody tr th {\n",
       "        vertical-align: top;\n",
       "    }\n",
       "\n",
       "    .dataframe thead th {\n",
       "        text-align: right;\n",
       "    }\n",
       "</style>\n",
       "<table border=\"1\" class=\"dataframe\">\n",
       "  <thead>\n",
       "    <tr style=\"text-align: right;\">\n",
       "      <th></th>\n",
       "      <th>#chars/word</th>\n",
       "      <th>#words/sentence</th>\n",
       "      <th>vocab</th>\n",
       "    </tr>\n",
       "    <tr>\n",
       "      <th>name</th>\n",
       "      <th></th>\n",
       "      <th></th>\n",
       "      <th></th>\n",
       "    </tr>\n",
       "  </thead>\n",
       "  <tbody>\n",
       "    <tr>\n",
       "      <th>complex</th>\n",
       "      <td>4.864884</td>\n",
       "      <td>21.537356</td>\n",
       "      <td>104840</td>\n",
       "    </tr>\n",
       "    <tr>\n",
       "      <th>simple</th>\n",
       "      <td>4.716778</td>\n",
       "      <td>16.584285</td>\n",
       "      <td>87589</td>\n",
       "    </tr>\n",
       "  </tbody>\n",
       "</table>\n",
       "</div>"
      ],
      "text/plain": [
       "         #chars/word  #words/sentence   vocab\n",
       "name                                         \n",
       "complex     4.864884        21.537356  104840\n",
       "simple      4.716778        16.584285   87589"
      ]
     },
     "execution_count": 8,
     "metadata": {},
     "output_type": "execute_result"
    }
   ],
   "source": [
    "# check for identical sentence pairs\n",
    "identical_pairs = 0\n",
    "for pair in translations:\n",
    "    if pair[0] == pair[1]:\n",
    "        identical_pairs+1\n",
    "print(\"Identical Pairs: %d\"%(identical_pairs))\n",
    "\n",
    "total_complex_sentences = len(translations)\n",
    "total_complex_words = 0\n",
    "total_simple_words = 0\n",
    "\n",
    "complex_dict = {}\n",
    "simple_dict = {}\n",
    "\n",
    "lmtzr = WordNetLemmatizer()\n",
    "\n",
    "#regular expression to capture words\n",
    "#capture: words word's\n",
    "#not capture: words'\n",
    "rgx = re.compile(\"(\\w[\\w']*\\w|\\w)\")\n",
    "for i in range(total_complex_sentences):\n",
    "    complex_sentence = translations[i][0]\n",
    "    simple_sentence = translations[i][1]\n",
    "\n",
    "    complex_words = rgx.findall(complex_sentence)\n",
    "    simple_words = rgx.findall(simple_sentence)\n",
    "    \n",
    "    for w in complex_words:\n",
    "        #wordnet lemmatize 'has' to ha, 'was' to wa, just use original word for the time\n",
    "        #w_lem = lmtzr.lemmatize(w)\n",
    "        complex_dict[w] = complex_dict.get(w, 0)+1\n",
    "        \n",
    "    for w in simple_words:\n",
    "        #w_lem = lmtzr.lemmatize(w)\n",
    "        simple_dict[w] = simple_dict.get(w, 0)+1\n",
    "    \n",
    "    total_complex_words += len(complex_words)\n",
    "    total_simple_words += len(simple_words)\n",
    "\n",
    "complex_freq_count = list(complex_dict.values())\n",
    "simple_freq_count = list(simple_dict.values())\n",
    "\n",
    "complex_words_in_dict = sum(complex_freq_count)\n",
    "simple_words_in_dict = sum(simple_freq_count)\n",
    "\n",
    "avg_chars_per_word_complex = sum([len(w)*complex_dict[w] for w in complex_dict]) / float(complex_words_in_dict)\n",
    "avg_chars_per_word_simple = sum([len(w)*simple_dict[w] for w in simple_dict]) / float(simple_words_in_dict)\n",
    "\n",
    "df = pd.DataFrame({'name': ['complex', 'simple'],\n",
    "                   '#words/sentence': [total_complex_words/float(total_complex_sentences), total_simple_words/float(total_simple_sentences)],\n",
    "                   '#chars/word': [avg_chars_per_word_complex, avg_chars_per_word_simple],\n",
    "                   'vocab': [len(complex_dict), len(simple_dict)]})\n",
    "df.set_index('name')"
   ]
  },
  {
   "cell_type": "code",
   "execution_count": 9,
   "metadata": {},
   "outputs": [
    {
     "name": "stdout",
     "output_type": "stream",
     "text": [
      "20 most frequency words (frequency):\n",
      "           complex            simple         \n",
      "\n",
      "       the (6.35%)       the (6.34%)\n",
      "        of (3.85%)        of (3.69%)\n",
      "        in (2.95%)        in (3.05%)\n",
      "       and (2.91%)       and (2.58%)\n",
      "         a (2.23%)        is (2.12%)\n",
      "        is (1.77%)         a (2.11%)\n",
      "        to (1.68%)        to (1.57%)\n",
      "       The (1.09%)       The (1.26%)\n",
      "       was (1.03%)       was (1.20%)\n",
      "        as (0.81%)        by (0.67%)\n",
      "        by (0.73%)        on (0.65%)\n",
      "        on (0.69%)        It (0.63%)\n",
      "       for (0.65%)       for (0.63%)\n",
      "      with (0.56%)        as (0.63%)\n",
      "      from (0.48%)       are (0.50%)\n",
      "      that (0.43%)      with (0.49%)\n",
      "        an (0.42%)      from (0.47%)\n",
      "       are (0.41%)      that (0.46%)\n",
      "        or (0.40%)        an (0.40%)\n",
      "        at (0.39%)        In (0.38%)\n"
     ]
    }
   ],
   "source": [
    "vocab_name_complex = 'data/PWKP/vocab.complex'\n",
    "vocab_name_simple = 'data/PWKP/vocab.simple'\n",
    "\n",
    "sorted_complex_tuple = sorted(complex_dict.items(), key=operator.itemgetter(1), reverse = True)\n",
    "sorted_simple_tuple = sorted(simple_dict.items(), key=operator.itemgetter(1), reverse = True)\n",
    "\n",
    "K = 20;\n",
    "print('%d most frequency words (frequency):'%K)\n",
    "print(\"           %s            %s         \\n\"%('complex', 'simple'))\n",
    "for i in range(K):\n",
    "    print('%10s (%.2f%%)%10s (%.2f%%)'%(sorted_complex_tuple[i][0],\n",
    "                                  sorted_complex_tuple[i][1]*100/float(complex_words_in_dict),\n",
    "                                  sorted_simple_tuple[i][0],\n",
    "                                  sorted_simple_tuple[i][1]*100/float(simple_words_in_dict)))"
   ]
  },
  {
   "cell_type": "code",
   "execution_count": 10,
   "metadata": {
    "collapsed": true
   },
   "outputs": [],
   "source": [
    "complex_words_sorted = [item[0] for item in sorted_complex_tuple]\n",
    "complex_count_sorted = [item[1] for item in sorted_complex_tuple]\n",
    "\n",
    "simple_words_sorted = [item[0] for item in sorted_simple_tuple]\n",
    "simple_count_sorted = [item[1] for item in sorted_simple_tuple]\n"
   ]
  },
  {
   "cell_type": "code",
   "execution_count": 11,
   "metadata": {},
   "outputs": [
    {
     "data": {
      "image/png": "[encoded data removed]",
      "text/plain": [
       "<matplotlib.figure.Figure at 0x7f6d1b3056a0>"
      ]
     },
     "metadata": {},
     "output_type": "display_data"
    }
   ],
   "source": [
    "plt.figure(figsize=(16, 4))\n",
    "N = 5000\n",
    "subIndex = range(0, N, 400)\n",
    "\n",
    "axe = plt.subplot(1,2,1)\n",
    "h1 = plt.plot(range(N), np.array(complex_count_sorted[:5000]))\n",
    "plt.ylabel('Log(count) Complex')\n",
    "axe1 = axe.twiny()\n",
    "plt.xticks(subIndex, np.array(complex_words_sorted)[subIndex], rotation = 45)\n",
    "plt.yscale('log')\n",
    "axe = plt.subplot(1,2,2)\n",
    "h2 = plt.plot(simple_count_sorted[:5000])\n",
    "plt.ylabel('Log(count) Simple')\n",
    "axe1 = axe.twiny()\n",
    "plt.xticks(subIndex, np.array(simple_words_sorted)[subIndex], rotation = 45)\n",
    "plt.yscale('log')"
   ]
  },
  {
   "cell_type": "code",
   "execution_count": 13,
   "metadata": {},
   "outputs": [
    {
     "data": {
      "image/png": "[encoded data removed]",
      "text/plain": [
       "<matplotlib.figure.Figure at 0x7f6d1678e198>"
      ]
     },
     "metadata": {},
     "output_type": "display_data"
    }
   ],
   "source": [
    "# Pie chart, where the slices will be ordered and plotted counter-clockwise:\n",
    "labels = 'Not Aligned', 'Not Simpler', 'Deletion', 'Paraphase', 'Deletion+Paraphase'\n",
    "sizes = [17, 33, 21, 17, 12]\n",
    "explode = (0, 0.1, 0, 0)  # only \"explode\" the 2nd slice (i.e. 'Hogs')\n",
    "\n",
    "fig1, ax1 = plt.subplots()\n",
    "ax1.pie(sizes, labels=labels, autopct='%1.1f%%',\n",
    "        shadow=True, startangle=90)\n",
    "ax1.axis('equal')  # Equal aspect ratio ensures that pie is drawn as a circle.\n",
    "\n",
    "plt.show()"
   ]
  },
  {
   "cell_type": "code",
   "execution_count": 44,
   "metadata": {},
   "outputs": [
    {
     "name": "stdout",
     "output_type": "stream",
     "text": [
      "<FreqDist with 8023 samples and 10434119 outcomes>\n"
     ]
    }
   ],
   "source": [
    "text_file = open(r'./data/PWKP/PWKP_108016.tok.bpe',\"r\")\n",
    "p = text_file.read()\n",
    "words = word_tokenize(p)\n",
    "fdist = nltk.FreqDist(words)\n",
    "print(fdist)"
   ]
  },
  {
   "cell_type": "code",
   "execution_count": 24,
   "metadata": {},
   "outputs": [
    {
     "data": {
      "text/plain": [
       "'a b c'"
      ]
     },
     "execution_count": 24,
     "metadata": {},
     "output_type": "execute_result"
    }
   ],
   "source": [
    "\"a b c\\n\".strip()"
   ]
  },
  {
   "cell_type": "code",
   "execution_count": null,
   "metadata": {
    "collapsed": true
   },
   "outputs": [],
   "source": []
  }
 ],
 "metadata": {
  "kernelspec": {
   "display_name": "Python 3",
   "language": "python",
   "name": "python3"
  },
  "language_info": {
   "codemirror_mode": {
    "name": "ipython",
    "version": 3
   },
   "file_extension": ".py",
   "mimetype": "text/x-python",
   "name": "python",
   "nbconvert_exporter": "python",
   "pygments_lexer": "ipython3",
   "version": "3.6.3"
  }
 },
 "nbformat": 4,
 "nbformat_minor": 2
}
