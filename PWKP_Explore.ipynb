{
 "cells": [
  {
   "cell_type": "markdown",
   "metadata": {},
   "source": [
    "# This notebook shows how to use the seq2seq model from tensorflow to build a text simplifcation system. The training dataset is the original parallel Wikipedia sentence pairs (PWKP_108016)"
   ]
  },
  {
   "cell_type": "code",
   "execution_count": 25,
   "metadata": {},
   "outputs": [],
   "source": [
    "import os.path\n",
    "import os\n",
    "import tensorflow as tf\n",
    "import keras\n",
    "import nltk\n",
    "from nltk import word_tokenize\n",
    "from nltk.tokenize.moses import MosesTokenizer\n",
    "from nltk.tokenize.moses import MosesDetokenizer\n",
    "import pandas as pd\n",
    "import numpy as np\n",
    "import re\n",
    "import codecs\n",
    "import sys\n",
    "import operator\n",
    "import matplotlib.pyplot as plt\n",
    "import sys\n",
    "sys.path.insert(0, './subword_nmt')\n",
    "from subword_nmt import learn_bpe\n",
    "from subword_nmt import apply_bpe\n",
    "sys.path.insert(0, './nmt/nmt')\n",
    "\n",
    "# sys.path.insert(0, '/Users/tengi/insight-project/lib/pwkp_dataset_parser')\n",
    "# from pwkp_parser import parse_pwkp_file\n",
    "# download the princeton wordnet, once run it once\n",
    "# nltk.download('wordnet') \n",
    "from nltk.stem.wordnet import WordNetLemmatizer\n",
    "%matplotlib inline\n",
    "#nltk.download('all')"
   ]
  },
  {
   "cell_type": "code",
   "execution_count": 2,
   "metadata": {},
   "outputs": [
    {
     "name": "stdout",
     "output_type": "stream",
     "text": [
      "--2018-01-24 01:35:33--  https://www.ukp.tu-darmstadt.de/fileadmin/user_upload/Group_UKP/files/PWKP_108016.tar.gz\n",
      "Resolving www.ukp.tu-darmstadt.de (www.ukp.tu-darmstadt.de)... 130.83.162.6\n",
      "Connecting to www.ukp.tu-darmstadt.de (www.ukp.tu-darmstadt.de)|130.83.162.6|:443... connected.\n",
      "HTTP request sent, awaiting response... 200 OK\n",
      "Length: 8221550 (7.8M) [application/x-gzip]\n",
      "Saving to: ‘./data/PWKP/PWKP_108016.tar.gz.1’\n",
      "\n",
      "PWKP_108016.tar.gz. 100%[===================>]   7.84M   933KB/s    in 9.9s    \n",
      "\n",
      "2018-01-24 01:35:43 (810 KB/s) - ‘./data/PWKP/PWKP_108016.tar.gz.1’ saved [8221550/8221550]\n",
      "\n"
     ]
    }
   ],
   "source": [
    "# download the PWKP dataset to local data directory and unzip it\n",
    "!wget -nv https://www.ukp.tu-darmstadt.de/fileadmin/user_upload/Group_UKP/files/PWKP_108016.tar.gz -P ./data/PWKP\n",
    "!tar -xzf ./data/PWKP/PWKP_108016.tar.gz -C ./data/PWKP"
   ]
  },
  {
   "cell_type": "code",
   "execution_count": 3,
   "metadata": {},
   "outputs": [],
   "source": [
    "pwkp_source_file = 'data/PWKP/PWKP_108016'\n",
    "translations = []\n",
    "\n",
    "# generate complex-simple paris in translations\n",
    "def retrieve_complex_simplex_translations(src_file):\n",
    "    total_simple_sentences = 0;\n",
    "    with open(pwkp_source_file) as pwkp_file:\n",
    "            translation_beginning = True\n",
    "            translation = None\n",
    "            for line in pwkp_file:\n",
    "                if translation_beginning:\n",
    "                    translation = (line.strip(), \"\")\n",
    "                    translation_beginning = False\n",
    "                else:\n",
    "                    if line == \"\\n\":\n",
    "                        translation_beginning = True\n",
    "                        translations.append(translation)\n",
    "                    else:\n",
    "                        total_simple_sentences += 1;\n",
    "                        source, target = translation\n",
    "                        translation =\\\n",
    "                            (source, target + line.strip() + \" \")\n",
    "    return (translations, total_simple_sentences);"
   ]
  },
  {
   "cell_type": "code",
   "execution_count": 4,
   "metadata": {},
   "outputs": [],
   "source": [
    "# get complex-simple pairs\n",
    "translations, total_simple_sentences = retrieve_complex_simplex_translations(pwkp_source_file)\n",
    "total_complex_sentences = len(translations)"
   ]
  },
  {
   "cell_type": "code",
   "execution_count": 5,
   "metadata": {},
   "outputs": [],
   "source": [
    "# random shuffle the dataset for train/dev/test split\n",
    "np.random.shuffle(translations)\n",
    "\n",
    "complex_sentences = [pair[0] for pair in translations]\n",
    "simple_sentences = [pair[1] for pair in translations]\n",
    "\n",
    "#tokenize the text by Moses Tokenizer\n",
    "tokenizer = MosesTokenizer()\n",
    "complex_tok_str = [tokenizer.tokenize(sent, return_str = True) for sent in complex_sentences]\n",
    "simple_tok_str = [tokenizer.tokenize(sent, return_str = True) for sent in simple_sentences] \n",
    "\n",
    "complex_tok_words = [word for sent in complex_tok_str for word in sent.split()]\n",
    "simple_tok_words = [word for sent in simple_tok_str for word in sent.split()]"
   ]
  },
  {
   "cell_type": "code",
   "execution_count": 6,
   "metadata": {},
   "outputs": [
    {
     "data": {
      "text/html": [
       "<div>\n",
       "<style scoped>\n",
       "    .dataframe tbody tr th:only-of-type {\n",
       "        vertical-align: middle;\n",
       "    }\n",
       "\n",
       "    .dataframe tbody tr th {\n",
       "        vertical-align: top;\n",
       "    }\n",
       "\n",
       "    .dataframe thead th {\n",
       "        text-align: right;\n",
       "    }\n",
       "</style>\n",
       "<table border=\"1\" class=\"dataframe\">\n",
       "  <thead>\n",
       "    <tr style=\"text-align: right;\">\n",
       "      <th></th>\n",
       "      <th>#chars/tokens</th>\n",
       "      <th>#tokens/sentence</th>\n",
       "      <th>#unique tokens</th>\n",
       "    </tr>\n",
       "    <tr>\n",
       "      <th>name</th>\n",
       "      <th></th>\n",
       "      <th></th>\n",
       "      <th></th>\n",
       "    </tr>\n",
       "  </thead>\n",
       "  <tbody>\n",
       "    <tr>\n",
       "      <th>complex</th>\n",
       "      <td>7.844607</td>\n",
       "      <td>24.516238</td>\n",
       "      <td>112901</td>\n",
       "    </tr>\n",
       "    <tr>\n",
       "      <th>simple</th>\n",
       "      <td>7.562868</td>\n",
       "      <td>18.945573</td>\n",
       "      <td>93521</td>\n",
       "    </tr>\n",
       "  </tbody>\n",
       "</table>\n",
       "</div>"
      ],
      "text/plain": [
       "         #chars/tokens  #tokens/sentence  #unique tokens\n",
       "name                                                    \n",
       "complex       7.844607         24.516238          112901\n",
       "simple        7.562868         18.945573           93521"
      ]
     },
     "execution_count": 6,
     "metadata": {},
     "output_type": "execute_result"
    }
   ],
   "source": [
    "complex_fdist = nltk.FreqDist(complex_tok_words)\n",
    "simple_fdist = nltk.FreqDist(simple_tok_words)\n",
    "\n",
    "complex_chars = sum([len(word) for word in complex_fdist.keys()])\n",
    "simple_chars = sum([len(word) for word in simple_fdist.keys()])\n",
    "\n",
    "df = pd.DataFrame({'name': ['complex', 'simple'],\n",
    "                   '#tokens/sentence': [complex_fdist.N()/total_complex_sentences, simple_fdist.N()/total_simple_sentences],\n",
    "                   '#chars/tokens': [complex_chars/complex_fdist.B(), simple_chars/simple_fdist.B()],\n",
    "                   '#unique tokens': [complex_fdist.B(), simple_fdist.B()]})\n",
    "df.set_index('name')"
   ]
  },
  {
   "cell_type": "code",
   "execution_count": 7,
   "metadata": {},
   "outputs": [
    {
     "data": {
      "image/png": "[encoded data removed]",
      "text/plain": [
       "<matplotlib.figure.Figure at 0x7fe157a6e9e8>"
      ]
     },
     "metadata": {},
     "output_type": "display_data"
    }
   ],
   "source": [
    "plt.figure(figsize=(16, 4))\n",
    "N = 5000\n",
    "subIndex = range(0, N, 400)\n",
    "complex_freq_list = complex_fdist.most_common()\n",
    "simple_freq_list = simple_fdist.most_common()\n",
    "\n",
    "complex_words = [complex_freq_list[i][0] for i in subIndex]\n",
    "simple_words = [simple_freq_list[i][0] for i in subIndex]\n",
    "\n",
    "axe = plt.subplot(1,2,1)\n",
    "h1 = plt.plot(range(N), np.array([pair[1] for pair in complex_freq_list[:5000]]))\n",
    "plt.ylabel('Log(count) Complex')\n",
    "axe1 = axe.twiny()\n",
    "plt.xticks(subIndex, np.array(complex_words), rotation = 45)\n",
    "plt.yscale('log')\n",
    "axe = plt.subplot(1,2,2)\n",
    "h2 = plt.plot(range(N), np.array([pair[1] for pair in simple_freq_list[:5000]]))\n",
    "plt.ylabel('Log(count) Simple')\n",
    "axe1 = axe.twiny()\n",
    "plt.xticks(subIndex, np.array(simple_words), rotation = 45)\n",
    "plt.yscale('log')"
   ]
  },
  {
   "cell_type": "code",
   "execution_count": 8,
   "metadata": {},
   "outputs": [],
   "source": [
    "corpus_file = 'data/PWKP/PWKP_108016.tok'\n",
    "\n",
    "complex_sentences_file = 'data/PWKP/complex.tok'\n",
    "simple_sentences_file = 'data/PWKP/simple.tok'\n",
    "\n",
    "complex_train_file = 'data/PWKP/train.tok.complex'\n",
    "simple_train_file = 'data/PWKP/train.tok.simple'\n",
    "\n",
    "complex_val_file = 'data/PWKP/val.tok.complex'\n",
    "simple_val_file = 'data/PWKP/val.tok.simple'\n",
    "\n",
    "complex_test_file = 'data/PWKP/test.tok.complex'\n",
    "simple_test_file = 'data/PWKP/test.tok.simple'\n",
    "\n",
    "val_size = 300\n",
    "test_size = 300\n",
    "\n",
    "with open(corpus_file, 'w') as f:\n",
    "    for i in range(len(complex_tok_str)):\n",
    "        f.write(complex_tok_str[i] + '\\n')\n",
    "        f.write(simple_tok_str[i] + '\\n\\n')\n",
    "        \n",
    "        \n",
    "with open(complex_sentences_file, 'w') as f:\n",
    "    for sent in complex_tok_str:\n",
    "        f.write(sent + '\\n')\n",
    "        \n",
    "with open(simple_sentences_file, 'w') as f:\n",
    "    for sent in simple_tok_str:\n",
    "        f.write(sent + '\\n')\n",
    " \n",
    "with open(complex_train_file, 'w') as f:\n",
    "    for sent in complex_tok_str[:-(val_size+test_size)]:\n",
    "        f.write(sent + '\\n')\n",
    "        \n",
    "with open(simple_train_file, 'w') as f:\n",
    "    for sent in simple_tok_str[:-(val_size+test_size)]:\n",
    "        f.write(sent + '\\n')\n",
    "        \n",
    "with open(complex_val_file, 'w') as f:\n",
    "    for sent in complex_tok_str[-(val_size+test_size):-test_size]:\n",
    "        f.write(sent + '\\n')\n",
    "        \n",
    "with open(simple_val_file, 'w') as f:\n",
    "    for sent in simple_tok_str[-(val_size+test_size):-test_size]:\n",
    "        f.write(sent + '\\n')\n",
    "        \n",
    "with open(complex_test_file, 'w') as f:\n",
    "    for sent in complex_tok_str[-test_size:]:\n",
    "        f.write(sent + '\\n')\n",
    "        \n",
    "with open(simple_test_file, 'w') as f:\n",
    "    for sent in simple_tok_str[-test_size:]:\n",
    "        f.write(sent + '\\n')\n",
    "        \n",
    "    "
   ]
  },
  {
   "cell_type": "code",
   "execution_count": 9,
   "metadata": {},
   "outputs": [
    {
     "name": "stdout",
     "output_type": "stream",
     "text": [
      "/bin/sh: 1: ./subword-nmt/learn_bpe.py: not found\n",
      "/bin/sh: 1: ./subword-nmt/apply_bpe.py: not found\n",
      "/bin/sh: 1: ./subword-nmt/apply_bpe.py: not found\n",
      "/bin/sh: 1: ./subword-nmt/apply_bpe.py: not found\n",
      "/bin/sh: 1: ./subword-nmt/apply_bpe.py: not found\n",
      "/bin/sh: 1: ./subword-nmt/apply_bpe.py: not found\n",
      "/bin/sh: 1: ./subword-nmt/apply_bpe.py: not found\n",
      "/bin/sh: 1: ./subword-nmt/apply_bpe.py: not found\n",
      "/bin/sh: 1: ./subword-nmt/apply_bpe.py: not found\n",
      "/bin/sh: 1: ./subword-nmt/apply_bpe.py: not found\n"
     ]
    }
   ],
   "source": [
    "# Learn a byte-pair-encoding (bpe) vocabulary using 10,000 merge operations\n",
    "!./subword_nmt/learn_bpe.py -s 10000 < data/PWKP/PWKP_108016.tok > data/PWKP/codes.bpe\n",
    "\n",
    "# Apply the vocabulary to the training file\n",
    "!./subword_nmt/apply_bpe.py -c data/PWKP/codes.bpe < data/PWKP/PWKP_108016.tok > data/PWKP/PWKP_108016.tok.bpe\n",
    "!./subword_nmt/apply_bpe.py -c data/PWKP/codes.bpe < data/PWKP/complex.tok > data/PWKP/complex.tok.bpe\n",
    "!./subword_nmt/apply_bpe.py -c data/PWKP/codes.bpe < data/PWKP/simple.tok > data/PWKP/simple.tok.bpe\n",
    "\n",
    "!./subword_nmt/apply_bpe.py -c data/PWKP/codes.bpe < data/PWKP/train.tok.complex > data/PWKP/train.tok.bpe.complex\n",
    "\n",
    "!./subword_nmt/apply_bpe.py -c data/PWKP/codes.bpe < data/PWKP/train.tok.simple > data/PWKP/train.tok.bpe.simple\n",
    "\n",
    "!./subword_nmt/apply_bpe.py -c data/PWKP/codes.bpe < data/PWKP/val.tok.complex > data/PWKP/val.tok.bpe.complex\n",
    "\n",
    "!./subword_nmt/apply_bpe.py -c data/PWKP/codes.bpe < data/PWKP/val.tok.simple > data/PWKP/val.tok.bpe.simple\n",
    "\n",
    "!./subword_nmt/apply_bpe.py -c data/PWKP/codes.bpe < data/PWKP/test.tok.complex > data/PWKP/test.tok.bpe.complex\n",
    "\n",
    "!./subword_nmt/apply_bpe.py -c data/PWKP/codes.bpe < data/PWKP/test.tok.simple > data/PWKP/test.tok.bpe.simple\n",
    "\n",
    "!cat data/PWKP/PWKP_108016.tok.bpe | ./subword_nmt/get_vocab.py > data/PWKP/PWKP_108016.vocab.tok.bpe\n",
    "!cat data/PWKP/complex.tok.bpe | ./subword_nmt/get_vocab.py > data/PWKP/vocab.tok.bpe.complex\n",
    "!cat data/PWKP/simple.tok.bpe | ./subword_nmt/get_vocab.py > data/PWKP/vocab.tok.bpe.simple"
   ]
  },
  {
   "cell_type": "code",
   "execution_count": 2,
   "metadata": {},
   "outputs": [
    {
     "data": {
      "text/plain": [
       "'a b, c d.'"
      ]
     },
     "execution_count": 2,
     "metadata": {},
     "output_type": "execute_result"
    }
   ],
   "source": [
    "detokenizer = MosesDetokenizer()\n",
    "detokenizer.detokenize(\"a b , cd .\", return_str = True)"
   ]
  },
  {
   "cell_type": "code",
   "execution_count": 64,
   "metadata": {},
   "outputs": [
    {
     "data": {
      "image/png": "[encoded data removed]",
      "text/plain": [
       "<matplotlib.figure.Figure at 0x1389a0630>"
      ]
     },
     "metadata": {},
     "output_type": "display_data"
    }
   ],
   "source": [
    "# Numbers borrowed from \"Problems in Current Text Simplification Research: New Data Can Help.\"\n",
    "# Problems in PWKP dataset\n",
    "labels = 'Not Aligned', 'Not Simpler', 'Deletion', 'Paraphase', 'Deletion+Paraphase'\n",
    "sizes = [17, 33, 21, 17, 12]\n",
    "\n",
    "fig1, ax1 = plt.subplots()\n",
    "patches, texts, autotexts = ax1.pie(sizes, labels=labels, autopct='%1.1f%%',\n",
    "        shadow=True, startangle=90)\n",
    "for text in texts:\n",
    "    text.set_fontsize(14)\n",
    "for autotext in autotexts:\n",
    "    autotext.set_fontsize(14)\n",
    "ax1.axis('equal')  # Equal aspect ratio ensures that pie is drawn as a circle.\n",
    "plt.show()"
   ]
  },
  {
   "cell_type": "code",
   "execution_count": 50,
   "metadata": {},
   "outputs": [
    {
     "name": "stdout",
     "output_type": "stream",
     "text": [
      "Number of tokens before subword segmentation: 121793\n",
      "Number of tokens after subword segmentation: 9239\n"
     ]
    }
   ],
   "source": [
    "fdist = nltk.FreqDist(complex_tok_words+simple_tok_words)\n",
    "print(\"Number of tokens before subword segmentation: {}\".format(fdist.B()))\n",
    "\n",
    "text_file = open(r'data/PWKP/PWKP_108016.tok.bpe',\"r\")\n",
    "p = text_file.read()\n",
    "words = word_tokenize(p)\n",
    "fdist = nltk.FreqDist(words)\n",
    "print(\"Number of tokens after subword segmentation: {}\".format(fdist.B()))\n"
   ]
  },
  {
   "cell_type": "markdown",
   "metadata": {},
   "source": [
    "# Better aligned Wiki dataset : WikNet\n",
    "http://ssli.ee.washington.edu/tial/projects/simplification/"
   ]
  },
  {
   "cell_type": "code",
   "execution_count": 7,
   "metadata": {},
   "outputs": [
    {
     "name": "stdout",
     "output_type": "stream",
     "text": [
      "2018-01-23 23:56:44 URL:http://ssli.ee.washington.edu/tial/projects/simplification/WikNet_word_pairs.txt [32072742/32072742] -> \"./data/WikNet/WikNet_word_pairs.txt.1\" [1]\n",
      "2018-01-23 23:56:46 URL:http://ssli.ee.washington.edu/tial/projects/simplification/annotations.txt [16000574/16000574] -> \"./data/WikNet/annotations.txt.1\" [1]\n",
      "2018-01-23 23:56:51 URL:http://ssli.ee.washington.edu/tial/projects/simplification/aligned-good-0.67.txt [41649849/41649849] -> \"./data/WikNet/aligned-good-0.67.txt.1\" [1]\n",
      "utime(./data/WikNet/aligned-good_partial-0.53.txt.1): No such file or directory\n",
      "2018-01-23 23:56:55 URL:http://ssli.ee.washington.edu/tial/projects/simplification/aligned-good_partial-0.53.txt [33783304/33783304] -> \"./data/WikNet/aligned-good_partial-0.53.txt.1\" [1]\n",
      "2018-01-23 23:56:59 URL:http://ssli.ee.washington.edu/tial/projects/simplification/aligned-remaining-0.45.txt [28620520/28620520] -> \"./data/WikNet/aligned-remaining-0.45.txt.1\" [1]\n"
     ]
    }
   ],
   "source": [
    "#download the scores\n",
    "!wget -nv http://ssli.ee.washington.edu/tial/projects/simplification/WikNet_word_pairs.txt -P ./data/WikNet/\n",
    "#download annotations\n",
    "!wget -nv http://ssli.ee.washington.edu/tial/projects/simplification/annotations.txt -P ./data/WikNet/\n",
    "#download good alignment\n",
    "!wget -nv http://ssli.ee.washington.edu/tial/projects/simplification/aligned-good-0.67.txt -P ./data/WikNet/\n",
    "#download partial alignment\n",
    "!wget -nv http://ssli.ee.washington.edu/tial/projects/simplification/aligned-good_partial-0.53.txt -P ./data/WikNet/\n",
    "#downad uncategorized\n",
    "!wget -nv http://ssli.ee.washington.edu/tial/projects/simplification/aligned-remaining-0.45.txt -P ./data/WikNet/"
   ]
  },
  {
   "cell_type": "code",
   "execution_count": 10,
   "metadata": {},
   "outputs": [],
   "source": [
    "wiknet_good_file = 'data/WikNet/aligned-good-0.67.txt'\n",
    "wiknet_partial_file = 'data/WikNet/aligned-good_partial-0.53.txt'\n",
    "wiknet_good_prefix = 'data/WikNet/good'\n",
    "wiknet_partial_prefix = 'data/WikNet/partial'\n",
    "\n",
    "wiknet_good_partial_prefix = 'data/WikNet/good_partial'\n",
    "\n",
    "\n",
    "translations = []\n",
    "# generate complex-simple paris in translations\n",
    "def parse_wiknet_file(src_file):\n",
    "    translations = []\n",
    "    scores = []\n",
    "    with open(src_file) as wiknet_file:\n",
    "            for line in wiknet_file:\n",
    "                triplet = line.split(\"\\t\")\n",
    "                translations.append([triplet[0].strip(), triplet[1].strip()])\n",
    "                scores.append(triplet[0].strip())               \n",
    "\n",
    "    return (translations, scores);\n",
    "def split_train_val_test(translations, src_prefix):\n",
    "    np.random.shuffle(translations)\n",
    "    complex_tok_str = [pair[0] for pair in translations]\n",
    "    simple_tok_str = [pair[1] for pair in translations]\n",
    "    \n",
    "    corpus_file = src_prefix+'.all.tok'\n",
    "    \n",
    "    complex_file = src_prefix+'.tok.complex'\n",
    "    simple_file = src_prefix+'.tok.simple'\n",
    "    \n",
    "    complex_train_file = src_prefix+'.train.tok.complex'\n",
    "    simple_train_file = src_prefix+'.train.tok.simple'\n",
    "\n",
    "    complex_val_file = src_prefix+'.val.tok.complex'\n",
    "    simple_val_file = src_prefix+'.val.tok.simple'\n",
    "\n",
    "    complex_test_file = src_prefix+'.test.tok.complex'\n",
    "    simple_test_file = src_prefix+'.test.tok.simple'\n",
    "\n",
    "    val_size = 300\n",
    "    test_size = 300\n",
    "\n",
    "    with open(corpus_file, 'w') as f:\n",
    "        for i in range(len(complex_tok_str)):\n",
    "            f.write(complex_tok_str[i] + '\\n')\n",
    "            f.write(simple_tok_str[i] + '\\n\\n')\n",
    "\n",
    "\n",
    "    with open(complex_file, 'w') as f:\n",
    "        for sent in complex_tok_str:\n",
    "            f.write(sent + '\\n')\n",
    "\n",
    "    with open(simple_file, 'w') as f:\n",
    "        for sent in simple_tok_str:\n",
    "            f.write(sent + '\\n')\n",
    "\n",
    "    with open(complex_train_file, 'w') as f:\n",
    "        for sent in complex_tok_str[:-(val_size+test_size)]:\n",
    "            f.write(sent + '\\n')\n",
    "\n",
    "    with open(simple_train_file, 'w') as f:\n",
    "        for sent in simple_tok_str[:-(val_size+test_size)]:\n",
    "            f.write(sent + '\\n')\n",
    "\n",
    "    with open(complex_val_file, 'w') as f:\n",
    "        for sent in complex_tok_str[-(val_size+test_size):-test_size]:\n",
    "            f.write(sent + '\\n')\n",
    "\n",
    "    with open(simple_val_file, 'w') as f:\n",
    "        for sent in simple_tok_str[-(val_size+test_size):-test_size]:\n",
    "            f.write(sent + '\\n')\n",
    "\n",
    "    with open(complex_test_file, 'w') as f:\n",
    "        for sent in complex_tok_str[-test_size:]:\n",
    "            f.write(sent + '\\n')\n",
    "\n",
    "    with open(simple_test_file, 'w') as f:\n",
    "        for sent in simple_tok_str[-test_size:]:\n",
    "            f.write(sent + '\\n')\n",
    "\n",
    "\n",
    "good_translations, _= parse_wiknet_file(wiknet_good_file)\n",
    "split_train_val_test(good_translations, wiknet_good_prefix)\n",
    "\n",
    "partial_translations, _= parse_wiknet_file(wiknet_partial_file)\n",
    "split_train_val_test(partial_translations, wiknet_partial_prefix)\n",
    "\n",
    "split_train_val_test(good_translations+partial_translations, wiknet_good_partial_prefix)"
   ]
  },
  {
   "cell_type": "code",
   "execution_count": 36,
   "metadata": {},
   "outputs": [],
   "source": [
    "# Learn a byte-pair-encoding (bpe) vocabulary using 10,000 merge operations\n",
    "!./subword_nmt/learn_bpe.py -s 10000 < data/WikNet/good_partial.all.tok > data/WikNet/codes.bpe\n",
    "\n",
    "# Apply the vocabulary to the training file\n",
    "!./subword_nmt/apply_bpe.py -c data/WikNet/codes.bpe < data/WikNet/good_partial.all.tok > data/WikNet/good_partial.tok.bpe\n",
    "!./subword_nmt/apply_bpe.py -c data/WikNet/codes.bpe < data/WikNet/good_partial.tok.complex > data/WikNet/good_partial.tok.bpe.complex\n",
    "!./subword_nmt/apply_bpe.py -c data/WikNet/codes.bpe < data/WikNet/good_partial.tok.simple > data/WikNet/good_partial.tok.bpe.simple\n",
    "\n",
    "!./subword_nmt/apply_bpe.py -c data/WikNet/codes.bpe < data/WikNet/good_partial.train.tok.complex > data/WikNet/good_partial.train.tok.bpe.complex\n",
    "\n",
    "!./subword_nmt/apply_bpe.py -c data/WikNet/codes.bpe < data/WikNet/good_partial.train.tok.simple > data/WikNet/good_partial.train.tok.bpe.simple\n",
    "\n",
    "!./subword_nmt/apply_bpe.py -c data/WikNet/codes.bpe < data/WikNet/good_partial.val.tok.complex > data/WikNet/good_partial.val.tok.bpe.complex\n",
    "\n",
    "!./subword_nmt/apply_bpe.py -c data/WikNet/codes.bpe < data/WikNet/good_partial.val.tok.simple > data/WikNet/good_partial.val.tok.bpe.simple\n",
    "\n",
    "!./subword_nmt/apply_bpe.py -c data/WikNet/codes.bpe < data/WikNet/good_partial.test.tok.complex > data/WikNet/good_partial.test.tok.bpe.complex\n",
    "\n",
    "!./subword_nmt/apply_bpe.py -c data/WikNet/codes.bpe < data/WikNet/good_partial.test.tok.simple > data/WikNet/good_partial.test.tok.bpe.simple\n",
    "\n",
    "!cat data/WikNet/good_partial.tok.bpe | ./subword_nmt/get_vocab.py > data/WikNet/good_partial.vocab.tok.bpe\n",
    "!cat data/WikNet/good_partial.tok.bpe.complex | ./subword_nmt/get_vocab.py > data/WikNet/vocab.tok.bpe.complex\n",
    "!cat data/WikNet/good_partial.tok.bpe.simple | ./subword_nmt/get_vocab.py > data/WikNet/vocab.tok.bpe.simple"
   ]
  },
  {
   "cell_type": "code",
   "execution_count": 37,
   "metadata": {},
   "outputs": [],
   "source": [
    "tokenizer = MosesTokenizer()\n",
    "good_partial_translations = good_translations+partial_translations\n",
    "\n",
    "complex_sentences = [pair[0] for pair in good_partial_translations]\n",
    "simple_sentences = [pair[1] for pair in good_partial_translations]\n",
    "\n",
    "complex_tok_str = [tokenizer.tokenize(sent, return_str = True) for sent in complex_sentences]\n",
    "simple_tok_str = [tokenizer.tokenize(sent, return_str = True) for sent in simple_sentences] \n",
    "\n",
    "complex_tok_words = [word for sent in complex_tok_str for word in sent.split()]\n",
    "simple_tok_words = [word for sent in simple_tok_str for word in sent.split()]"
   ]
  },
  {
   "cell_type": "code",
   "execution_count": 38,
   "metadata": {},
   "outputs": [
    {
     "ename": "NameError",
     "evalue": "name 'total_complex_sentences' is not defined",
     "output_type": "error",
     "traceback": [
      "\u001b[0;31m---------------------------------------------------------------------------\u001b[0m",
      "\u001b[0;31mNameError\u001b[0m                                 Traceback (most recent call last)",
      "\u001b[0;32m<ipython-input-38-56bd3fb6aa3b>\u001b[0m in \u001b[0;36m<module>\u001b[0;34m()\u001b[0m\n\u001b[1;32m      6\u001b[0m \u001b[0;34m\u001b[0m\u001b[0m\n\u001b[1;32m      7\u001b[0m df = pd.DataFrame({'name': ['complex', 'simple'],\n\u001b[0;32m----> 8\u001b[0;31m                    \u001b[0;34m'#tokens/sentence'\u001b[0m\u001b[0;34m:\u001b[0m \u001b[0;34m[\u001b[0m\u001b[0mcomplex_fdist\u001b[0m\u001b[0;34m.\u001b[0m\u001b[0mN\u001b[0m\u001b[0;34m(\u001b[0m\u001b[0;34m)\u001b[0m\u001b[0;34m/\u001b[0m\u001b[0mtotal_complex_sentences\u001b[0m\u001b[0;34m,\u001b[0m \u001b[0msimple_fdist\u001b[0m\u001b[0;34m.\u001b[0m\u001b[0mN\u001b[0m\u001b[0;34m(\u001b[0m\u001b[0;34m)\u001b[0m\u001b[0;34m/\u001b[0m\u001b[0mtotal_simple_sentences\u001b[0m\u001b[0;34m]\u001b[0m\u001b[0;34m,\u001b[0m\u001b[0;34m\u001b[0m\u001b[0m\n\u001b[0m\u001b[1;32m      9\u001b[0m                    \u001b[0;34m'#chars/tokens'\u001b[0m\u001b[0;34m:\u001b[0m \u001b[0;34m[\u001b[0m\u001b[0mcomplex_chars\u001b[0m\u001b[0;34m/\u001b[0m\u001b[0mcomplex_fdist\u001b[0m\u001b[0;34m.\u001b[0m\u001b[0mB\u001b[0m\u001b[0;34m(\u001b[0m\u001b[0;34m)\u001b[0m\u001b[0;34m,\u001b[0m \u001b[0msimple_chars\u001b[0m\u001b[0;34m/\u001b[0m\u001b[0msimple_fdist\u001b[0m\u001b[0;34m.\u001b[0m\u001b[0mB\u001b[0m\u001b[0;34m(\u001b[0m\u001b[0;34m)\u001b[0m\u001b[0;34m]\u001b[0m\u001b[0;34m,\u001b[0m\u001b[0;34m\u001b[0m\u001b[0m\n\u001b[1;32m     10\u001b[0m                    '#unique tokens': [complex_fdist.B(), simple_fdist.B()]})\n",
      "\u001b[0;31mNameError\u001b[0m: name 'total_complex_sentences' is not defined"
     ]
    }
   ],
   "source": [
    "complex_fdist = nltk.FreqDist(complex_tok_words)\n",
    "simple_fdist = nltk.FreqDist(simple_tok_words)\n",
    "\n",
    "complex_chars = sum([len(word) for word in complex_fdist.keys()])\n",
    "simple_chars = sum([len(word) for word in simple_fdist.keys()])\n",
    "\n",
    "df = pd.DataFrame({'name': ['complex', 'simple'],\n",
    "                   '#tokens/sentence': [complex_fdist.N()/len(complex_sentences), simple_fdist.N()/len(simple_sentences)],\n",
    "                   '#chars/tokens': [complex_chars/complex_fdist.B(), simple_chars/simple_fdist.B()],\n",
    "                   '#unique tokens': [complex_fdist.B(), simple_fdist.B()]})\n",
    "df.set_index('name')"
   ]
  },
  {
   "cell_type": "code",
   "execution_count": null,
   "metadata": {},
   "outputs": [],
   "source": [
    "fdist = nltk.FreqDist(complex_tok_words+simple_tok_words)\n",
    "print(\"Number of tokens before subword segmentation: {}\".format(fdist.B()))\n",
    "\n",
    "text_file = open(r'data/WikNet/good_partial.tok.bpe',\"r\")\n",
    "p = text_file.read()\n",
    "words = word_tokenize(p)\n",
    "fdist = nltk.FreqDist(words)\n",
    "print(\"Number of tokens after subword segmentation: {}\".format(fdist.B()))\n"
   ]
  },
  {
   "cell_type": "code",
   "execution_count": null,
   "metadata": {},
   "outputs": [],
   "source": []
  }
 ],
 "metadata": {
  "kernelspec": {
   "display_name": "Python 3",
   "language": "python",
   "name": "python3"
  },
  "language_info": {
   "codemirror_mode": {
    "name": "ipython",
    "version": 3
   },
   "file_extension": ".py",
   "mimetype": "text/x-python",
   "name": "python",
   "nbconvert_exporter": "python",
   "pygments_lexer": "ipython3",
   "version": "3.6.4"
  }
 },
 "nbformat": 4,
 "nbformat_minor": 2
}
