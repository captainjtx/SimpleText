{
 "cells": [
  {
   "cell_type": "code",
   "execution_count": 1,
   "metadata": {},
   "outputs": [
    {
     "name": "stderr",
     "output_type": "stream",
     "text": [
      "Using TensorFlow backend.\n"
     ]
    }
   ],
   "source": [
    "import os.path\n",
    "import tensorflow as tf\n",
    "import keras\n",
    "import nltk\n",
    "import pandas as pd\n",
    "import numpy as np\n",
    "import re\n",
    "import codecs\n",
    "import sys\n",
    "import operator\n",
    "import matplotlib.pyplot as plt\n",
    "# sys.path.insert(0, '/Users/tengi/insight-project/lib/pwkp_dataset_parser')\n",
    "# from pwkp_parser import parse_pwkp_file\n",
    "# download the princeton wordnet, once run it once\n",
    "# nltk.download('wordnet') \n",
    "from nltk.stem.wordnet import WordNetLemmatizer\n",
    "%matplotlib inline"
   ]
  },
  {
   "cell_type": "code",
   "execution_count": 2,
   "metadata": {},
   "outputs": [],
   "source": [
    "#split the original data file (PWKP_108016) in to complex.txt and simple.txt \n",
    "pwkp_source_file = 'data/PWKP/PWKP_108016'\n",
    "# complex_sentences_file = 'data/PWKP/complex.txt'\n",
    "# simple_sentences_file = 'data/PWKP/simple.txt'\n",
    "# parse_pwkp_file(pwkp_source_file, complex_sentences_file, simple_sentences_file)\n",
    "translations = []\n",
    "\n",
    "# generate complex-simple paris in translations\n",
    "\n",
    "def retrieve_complex_simplex_translations(src_file):\n",
    "    total_simple_sentences = 0;\n",
    "    with open(pwkp_source_file) as pwkp_file:\n",
    "            translation_beginning = True\n",
    "            translation = None\n",
    "            for line in pwkp_file:\n",
    "                if translation_beginning:\n",
    "                    translation = (line.strip(), \"\")\n",
    "                    translation_beginning = False\n",
    "                else:\n",
    "                    if line == \"\\n\":\n",
    "                        translation_beginning = True\n",
    "                        translations.append(translation)\n",
    "                    else:\n",
    "                        total_simple_sentences += 1;\n",
    "                        source, target = translation\n",
    "                        translation =\\\n",
    "                            (source, target + line.strip() + \" \")\n",
    "    return (translations, total_simple_sentences);"
   ]
  },
  {
   "cell_type": "code",
   "execution_count": 3,
   "metadata": {},
   "outputs": [],
   "source": [
    "# get complex-simple pairs\n",
    "translations, total_simple_sentences = retrieve_complex_simplex_translations(pwkp_source_file)"
   ]
  },
  {
   "cell_type": "code",
   "execution_count": 71,
   "metadata": {},
   "outputs": [
    {
     "name": "stdout",
     "output_type": "stream",
     "text": [
      "Identical Pairs: 0\n"
     ]
    },
    {
     "data": {
      "text/html": [
       "<div>\n",
       "<style scoped>\n",
       "    .dataframe tbody tr th:only-of-type {\n",
       "        vertical-align: middle;\n",
       "    }\n",
       "\n",
       "    .dataframe tbody tr th {\n",
       "        vertical-align: top;\n",
       "    }\n",
       "\n",
       "    .dataframe thead th {\n",
       "        text-align: right;\n",
       "    }\n",
       "</style>\n",
       "<table border=\"1\" class=\"dataframe\">\n",
       "  <thead>\n",
       "    <tr style=\"text-align: right;\">\n",
       "      <th></th>\n",
       "      <th>#chars/word</th>\n",
       "      <th>#words/sentence</th>\n",
       "      <th>vocab</th>\n",
       "    </tr>\n",
       "    <tr>\n",
       "      <th>name</th>\n",
       "      <th></th>\n",
       "      <th></th>\n",
       "      <th></th>\n",
       "    </tr>\n",
       "  </thead>\n",
       "  <tbody>\n",
       "    <tr>\n",
       "      <th>complex</th>\n",
       "      <td>4.844202</td>\n",
       "      <td>21.609549</td>\n",
       "      <td>104036</td>\n",
       "    </tr>\n",
       "    <tr>\n",
       "      <th>simple</th>\n",
       "      <td>4.699353</td>\n",
       "      <td>16.632178</td>\n",
       "      <td>87106</td>\n",
       "    </tr>\n",
       "  </tbody>\n",
       "</table>\n",
       "</div>"
      ],
      "text/plain": [
       "         #chars/word  #words/sentence   vocab\n",
       "name                                         \n",
       "complex     4.844202        21.609549  104036\n",
       "simple      4.699353        16.632178   87106"
      ]
     },
     "execution_count": 71,
     "metadata": {},
     "output_type": "execute_result"
    }
   ],
   "source": [
    "# check for identical sentence pairs\n",
    "identical_pairs = 0\n",
    "for pair in translations:\n",
    "    if pair[0] == pair[1]:\n",
    "        identical_pairs+1\n",
    "print(\"Identical Pairs: %d\"%(identical_pairs))\n",
    "\n",
    "total_complex_sentences = len(translations)\n",
    "total_complex_words = 0\n",
    "total_simple_words = 0\n",
    "\n",
    "complex_dict = {}\n",
    "simple_dict = {}\n",
    "\n",
    "lmtzr = WordNetLemmatizer()\n",
    "\n",
    "#regular expression to capture words\n",
    "#capture: words word's\n",
    "#not capture: words'\n",
    "rgx = re.compile(\"(\\w[\\w']*\\w|\\w)\")\n",
    "for i in range(total_complex_sentences):\n",
    "    complex_sentence = translations[i][0]\n",
    "    simple_sentence = translations[i][1]\n",
    "\n",
    "    complex_words = rgx.findall(complex_sentence)\n",
    "    simple_words = rgx.findall(simple_sentence)\n",
    "    \n",
    "    for w in complex_words:\n",
    "        #wordnet lemmatize 'has' to ha, 'was' to wa, just use original word for the time\n",
    "        #w_lem = lmtzr.lemmatize(w)\n",
    "        complex_dict[w] = complex_dict.get(w, 0)+1\n",
    "        \n",
    "    for w in simple_words:\n",
    "        #w_lem = lmtzr.lemmatize(w)\n",
    "        simple_dict[w] = simple_dict.get(w, 0)+1\n",
    "    \n",
    "    total_complex_words += len(complex_words)\n",
    "    total_simple_words += len(simple_words)\n",
    "\n",
    "complex_freq_count = list(complex_dict.values())\n",
    "simple_freq_count = list(simple_dict.values())\n",
    "\n",
    "complex_words_in_dict = sum(complex_freq_count)\n",
    "simple_words_in_dict = sum(simple_freq_count)\n",
    "\n",
    "avg_chars_per_word_complex = sum([len(w)*complex_dict[w] for w in complex_dict]) / float(complex_words_in_dict)\n",
    "avg_chars_per_word_simple = sum([len(w)*simple_dict[w] for w in simple_dict]) / float(simple_words_in_dict)\n",
    "\n",
    "df = pd.DataFrame({'name': ['complex', 'simple'],\n",
    "                   '#words/sentence': [total_complex_words/float(total_complex_sentences), total_simple_words/float(total_simple_sentences)],\n",
    "                   '#chars/word': [avg_chars_per_word_complex, avg_chars_per_word_simple],\n",
    "                   'vocab': [len(complex_dict), len(simple_dict)]})\n",
    "df.set_index('name')"
   ]
  },
  {
   "cell_type": "code",
   "execution_count": 26,
   "metadata": {},
   "outputs": [
    {
     "name": "stdout",
     "output_type": "stream",
     "text": [
      "20 most frequency words (frequency):\n",
      "           complex            simple         \n",
      "\n",
      "       the (6.33%)       the (6.32%)\n",
      "        of (3.83%)        of (3.68%)\n",
      "        in (2.94%)        in (3.05%)\n",
      "       and (2.90%)       and (2.57%)\n",
      "         a (2.22%)        is (2.12%)\n",
      "        is (1.76%)         a (2.11%)\n",
      "        to (1.68%)        to (1.56%)\n",
      "       The (1.09%)       The (1.26%)\n",
      "       was (1.03%)       was (1.19%)\n",
      "        as (0.81%)        by (0.67%)\n",
      "        by (0.73%)        on (0.65%)\n",
      "        on (0.69%)        It (0.63%)\n",
      "       for (0.65%)       for (0.63%)\n",
      "      with (0.55%)        as (0.63%)\n",
      "      from (0.48%)       are (0.50%)\n",
      "      that (0.43%)      with (0.49%)\n",
      "        an (0.41%)      from (0.47%)\n",
      "       are (0.41%)      that (0.46%)\n",
      "        or (0.40%)        an (0.40%)\n",
      "        at (0.39%)        In (0.38%)\n"
     ]
    }
   ],
   "source": [
    "vocab_name_complex = 'data/PWKP/vocab.complex'\n",
    "vocab_name_simple = 'data/PWKP/vocab.simple'\n",
    "\n",
    "sorted_complex_tuple = sorted(complex_dict.items(), key=operator.itemgetter(1), reverse = True)\n",
    "sorted_simple_tuple = sorted(simple_dict.items(), key=operator.itemgetter(1), reverse = True)\n",
    "\n",
    "K = 20;\n",
    "print('%d most frequency words (frequency):'%K)\n",
    "print(\"           %s            %s         \\n\"%('complex', 'simple'))\n",
    "for i in range(K):\n",
    "    print('%10s (%.2f%%)%10s (%.2f%%)'%(sorted_complex_tuple[i][0],\n",
    "                                  sorted_complex_tuple[i][1]*100/float(complex_words_in_dict),\n",
    "                                  sorted_simple_tuple[i][0],\n",
    "                                  sorted_simple_tuple[i][1]*100/float(simple_words_in_dict)))"
   ]
  },
  {
   "cell_type": "code",
   "execution_count": 27,
   "metadata": {},
   "outputs": [],
   "source": [
    "complex_words_sorted = [item[0] for item in sorted_complex_tuple]\n",
    "complex_count_sorted = [item[1] for item in sorted_complex_tuple]\n",
    "\n",
    "simple_words_sorted = [item[0] for item in sorted_simple_tuple]\n",
    "simple_count_sorted = [item[1] for item in sorted_simple_tuple]\n"
   ]
  },
  {
   "cell_type": "code",
   "execution_count": 65,
   "metadata": {
    "scrolled": true
   },
   "outputs": [
    {
     "data": {
      "image/png": "[encoded data removed]",
      "text/plain": [
       "<matplotlib.figure.Figure at 0x13082f890>"
      ]
     },
     "metadata": {},
     "output_type": "display_data"
    }
   ],
   "source": [
    "plt.figure(figsize=(16, 4))\n",
    "N = 5000\n",
    "subIndex = range(0, N, 400)\n",
    "\n",
    "axe = plt.subplot(1,2,1)\n",
    "h1 = plt.plot(range(N), np.array(complex_count_sorted[:5000]))\n",
    "plt.ylabel('Log(count) Complex')\n",
    "axe1 = axe.twiny()\n",
    "plt.xticks(subIndex, np.array(complex_words_sorted)[subIndex], rotation = 45)\n",
    "plt.yscale('log')\n",
    "axe = plt.subplot(1,2,2)\n",
    "h2 = plt.plot(simple_count_sorted[:5000])\n",
    "plt.ylabel('Log(count) Simple')\n",
    "axe1 = axe.twiny()\n",
    "plt.xticks(subIndex, np.array(simple_words_sorted)[subIndex], rotation = 45)\n",
    "plt.yscale('log')"
   ]
  },
  {
   "cell_type": "code",
   "execution_count": null,
   "metadata": {},
   "outputs": [],
   "source": []
  }
 ],
 "metadata": {
  "kernelspec": {
   "display_name": "Python 2",
   "language": "python",
   "name": "python2"
  },
  "language_info": {
   "codemirror_mode": {
    "name": "ipython",
    "version": 2
   },
   "file_extension": ".py",
   "mimetype": "text/x-python",
   "name": "python",
   "nbconvert_exporter": "python",
   "pygments_lexer": "ipython2",
   "version": "2.7.14"
  }
 },
 "nbformat": 4,
 "nbformat_minor": 2
}
